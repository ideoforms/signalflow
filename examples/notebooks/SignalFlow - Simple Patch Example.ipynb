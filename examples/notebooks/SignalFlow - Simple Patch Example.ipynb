{
 "cells": [
  {
   "cell_type": "code",
   "execution_count": null,
   "metadata": {},
   "outputs": [],
   "source": [
    "from signalflow import *"
   ]
  },
  {
   "cell_type": "code",
   "execution_count": null,
   "metadata": {},
   "outputs": [],
   "source": [
    "graph = AudioGraph()"
   ]
  },
  {
   "cell_type": "code",
   "execution_count": null,
   "metadata": {},
   "outputs": [],
   "source": [
    "class Ping (Patch):\n",
    "    def __init__(self, frequency=440):\n",
    "        #--------------------------------------------------------------------------------\n",
    "        # It's vital to call the super().__init__ function to properly create the patch.\n",
    "        #--------------------------------------------------------------------------------\n",
    "        super().__init__()\n",
    "        frequency = self.add_input(\"frequency\", frequency)\n",
    "        square = SquareOscillator([frequency, frequency * 1.01])\n",
    "        lowpass = SVFilter(square, \"low_pass\", Line(frequency, frequency / 4, 0.1))\n",
    "        envelope = ASREnvelope(0.0, 0.0, 0.5)\n",
    "        output = lowpass * envelope * 0.1\n",
    "        self.set_output(output)"
   ]
  },
  {
   "cell_type": "code",
   "execution_count": null,
   "metadata": {},
   "outputs": [],
   "source": [
    "ping = Ping(frequency=440)\n",
    "ping.play()"
   ]
  }
 ],
 "metadata": {
  "kernelspec": {
   "display_name": ".venv",
   "language": "python",
   "name": "python3"
  },
  "language_info": {
   "codemirror_mode": {
    "name": "ipython",
    "version": 3
   },
   "file_extension": ".py",
   "mimetype": "text/x-python",
   "name": "python",
   "nbconvert_exporter": "python",
   "pygments_lexer": "ipython3",
   "version": "3.11.6"
  }
 },
 "nbformat": 4,
 "nbformat_minor": 2
}
