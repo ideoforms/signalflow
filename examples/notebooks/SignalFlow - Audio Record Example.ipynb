{
 "cells": [
  {
   "cell_type": "code",
   "execution_count": null,
   "metadata": {},
   "outputs": [],
   "source": [
    "#------------------------------------------------------------------------\n",
    "# Example: Audio recording\n",
    "#------------------------------------------------------------------------\n",
    "\n",
    "from signalflow import *\n",
    "graph = AudioGraph()\n",
    "\n",
    "audio_in = AudioIn()\n",
    "record_time = 2.0"
   ]
  },
  {
   "cell_type": "code",
   "execution_count": null,
   "metadata": {},
   "outputs": [],
   "source": [
    "#--------------------------------------------------------------------------------\n",
    "# When this cell is run, record into a buffer from the default microphone input\n",
    "#--------------------------------------------------------------------------------\n",
    "buf = Buffer(1, int(graph.sample_rate * record_time))\n",
    "recorder = BufferRecorder(buf, audio_in[0])\n",
    "graph.add_node(recorder)\n",
    "print(\"Recording...\")\n",
    "graph.wait(record_time)\n",
    "print(\"Finished!\")\n",
    "graph.clear()"
   ]
  },
  {
   "cell_type": "code",
   "execution_count": null,
   "metadata": {},
   "outputs": [],
   "source": [
    "#--------------------------------------------------------------------------------\n",
    "# Play the buffer\n",
    "#--------------------------------------------------------------------------------\n",
    "player = BufferPlayer(buf)\n",
    "player.play()"
   ]
  }
 ],
 "metadata": {
  "kernelspec": {
   "display_name": "env-311",
   "language": "python",
   "name": "python3"
  },
  "language_info": {
   "codemirror_mode": {
    "name": "ipython",
    "version": 3
   },
   "file_extension": ".py",
   "mimetype": "text/x-python",
   "name": "python",
   "nbconvert_exporter": "python",
   "pygments_lexer": "ipython3",
   "version": "3.11.6"
  }
 },
 "nbformat": 4,
 "nbformat_minor": 2
}
