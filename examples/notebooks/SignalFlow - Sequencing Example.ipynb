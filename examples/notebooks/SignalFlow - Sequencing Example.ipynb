{
 "cells": [
  {
   "cell_type": "code",
   "execution_count": null,
   "metadata": {},
   "outputs": [],
   "source": [
    "#------------------------------------------------------------------------\n",
    "# Example: Sequencing\n",
    "#\n",
    "# Demonstrates the use of SignalFlow nodes to generate continuous \n",
    "# sequences. For more complex sequences that can be modified on-the-fly,\n",
    "# use isobar: https://github.com/ideoforms/isobar\n",
    "#------------------------------------------------------------------------\n",
    "\n",
    "from signalflow import *\n",
    "import numpy as np\n",
    "\n",
    "graph = AudioGraph()"
   ]
  },
  {
   "cell_type": "code",
   "execution_count": null,
   "metadata": {},
   "outputs": [],
   "source": [
    "class SquareArpPatch (Patch):\n",
    "    #------------------------------------------------------------------------\n",
    "    # Simple patch that iterates through a sequence of MIDI notes\n",
    "    # following the given clock\n",
    "    #------------------------------------------------------------------------\n",
    "    def __init__(self, clock, sequence_array, fundamental, pan=0.0):\n",
    "        super().__init__()\n",
    "        sequence = Sequence(np.array(sequence_array), clock)\n",
    "        frequency = MidiNoteToFrequency(sequence + fundamental)\n",
    "        square = SquareOscillator(frequency, width=SineLFO([0.1, 0.11], 0.05, 0.5))\n",
    "        filter_env = ScaleLinExp(ASREnvelope(0.001, 0.01, 0.1, clock=clock) ** 3, 0, 1, 100, 5000)\n",
    "        filtered = SVFilter(square, \"low_pass\", filter_env, resonance=0.2) * 0.2\n",
    "        balanced = StereoBalance(filtered, pan)\n",
    "        self.set_output(balanced)\n",
    "\n",
    "class HiHatPatch (Patch):\n",
    "    #------------------------------------------------------------------------\n",
    "    # Minimum viable hi-hat\n",
    "    #------------------------------------------------------------------------\n",
    "    def __init__(self, clock, amp=1.0):\n",
    "        super().__init__()\n",
    "        noise = WhiteNoise()\n",
    "        noise = SVFilter(noise, \"high_pass\", 8000)\n",
    "        env = ASREnvelope(0.001, 0.01, 0.1, clock=clock)\n",
    "        pan = SineLFO(0.5, -0.3, 0.3)\n",
    "        output = StereoPanner(noise * env * amp, pan)\n",
    "        self.set_output(output)\n",
    "\n",
    "#------------------------------------------------------------------------\n",
    "# Create a 16th-beat clock\n",
    "#------------------------------------------------------------------------\n",
    "bpm = 110\n",
    "clock = Impulse(4 * bpm/60)\n",
    "\n",
    "#------------------------------------------------------------------------\n",
    "# Shared sequence that is used to transpose MIDI notes\n",
    "#------------------------------------------------------------------------\n",
    "fundamental = Sequence([0, -4, -5], Impulse(1/4))\n",
    "\n",
    "#------------------------------------------------------------------------\n",
    "# Create three parallel arpeggios\n",
    "#------------------------------------------------------------------------\n",
    "bass = SquareArpPatch(clock, np.array([ 0, 0, 0, 0, 7, 12, 0, 7 ]) + 36, fundamental)\n",
    "bass.play()\n",
    "\n",
    "seq1 = SquareArpPatch(clock, np.array([ 3, 2, 0, -2, 0]) + 60, fundamental, pan=-0.75)\n",
    "seq1.play()\n",
    "\n",
    "seq2 = SquareArpPatch(clock, np.array([ 7, 3, 5, 2, 3, 0 ]) + 72, fundamental, pan=0.75)\n",
    "seq2.play()\n",
    "\n",
    "#------------------------------------------------------------------------\n",
    "# Add a simple hi-hat sequence\n",
    "#------------------------------------------------------------------------\n",
    "amp_sequence = Sequence([ 0.1, 0.25, 0.5, 0.1 ], clock=clock)\n",
    "patch = HiHatPatch(clock, amp=amp_sequence)\n",
    "patch.play()"
   ]
  },
  {
   "cell_type": "code",
   "execution_count": null,
   "metadata": {},
   "outputs": [],
   "source": [
    "graph.clear()"
   ]
  }
 ],
 "metadata": {
  "kernelspec": {
   "display_name": "env-311",
   "language": "python",
   "name": "python3"
  },
  "language_info": {
   "codemirror_mode": {
    "name": "ipython",
    "version": 3
   },
   "file_extension": ".py",
   "mimetype": "text/x-python",
   "name": "python",
   "nbconvert_exporter": "python",
   "pygments_lexer": "ipython3",
   "version": "3.11.6"
  }
 },
 "nbformat": 4,
 "nbformat_minor": 2
}
