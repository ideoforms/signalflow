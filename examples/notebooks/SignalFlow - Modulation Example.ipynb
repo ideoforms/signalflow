{
 "cells": [
  {
   "cell_type": "code",
   "execution_count": null,
   "metadata": {},
   "outputs": [],
   "source": [
    "#------------------------------------------------------------------------\n",
    "# Example: Modulation\n",
    "#\n",
    "# Demonstrates the use of SignalFlow nodes to generate continuous \n",
    "# sequences. For more complex sequences that can be modified on-the-fly,\n",
    "# use isobar: https://github.com/ideoforms/isobar\n",
    "#------------------------------------------------------------------------\n",
    "\n",
    "from signalflow import *\n",
    "\n",
    "graph = AudioGraph()"
   ]
  },
  {
   "cell_type": "code",
   "execution_count": null,
   "metadata": {},
   "outputs": [],
   "source": [
    "#------------------------------------------------------------------------\n",
    "# Create a regular impulse that is used to trigger an envelope and S&H.\n",
    "#------------------------------------------------------------------------\n",
    "clock = Impulse(8)\n",
    "frequency = ScaleLinExp(SawLFO(0.2), 0, 1, 200, 2000)\n",
    "sample_hold = SampleAndHold(frequency, clock)\n",
    "sine = TriangleOscillator(sample_hold) * 0.5\n",
    "env = ASREnvelope(attack=0.001, sustain=0.001, release=0.1, clock=clock)\n",
    "\n",
    "#------------------------------------------------------------------------\n",
    "# Apply the envelope, and stereo pan between speakers.\n",
    "#------------------------------------------------------------------------\n",
    "mono = sine * env\n",
    "stereo = StereoPanner(mono, SineLFO(0.5, -1, 1))\n",
    "\n",
    "#------------------------------------------------------------------------\n",
    "# Add some delay.\n",
    "#------------------------------------------------------------------------\n",
    "delay1 = CombDelay(mono, 0.1, 0.8)\n",
    "delay2 = OneTapDelay(CombDelay(mono, 0.05, 0.8), 0.125)\n",
    "stereo = stereo + ChannelArray([ delay1, delay2 ]) * 0.2\n",
    "\n",
    "#------------------------------------------------------------------------\n",
    "# Play the output.\n",
    "#------------------------------------------------------------------------\n",
    "stereo.play()"
   ]
  },
  {
   "cell_type": "code",
   "execution_count": null,
   "metadata": {},
   "outputs": [],
   "source": [
    "graph.clear()"
   ]
  }
 ],
 "metadata": {
  "kernelspec": {
   "display_name": "env-311",
   "language": "python",
   "name": "python3"
  },
  "language_info": {
   "codemirror_mode": {
    "name": "ipython",
    "version": 3
   },
   "file_extension": ".py",
   "mimetype": "text/x-python",
   "name": "python",
   "nbconvert_exporter": "python",
   "pygments_lexer": "ipython3",
   "version": "3.11.6"
  }
 },
 "nbformat": 4,
 "nbformat_minor": 2
}
