{
 "cells": [
  {
   "cell_type": "code",
   "execution_count": null,
   "metadata": {},
   "outputs": [],
   "source": [
    "#--------------------------------------------------------------------------------\n",
    "# Example: Sequencing SignalFlow with isobar\n",
    "# \n",
    "# In this example, a Squelch patch is created at initialisation.\n",
    "# Each event updates the inputs of the Squelch patch with new values.\n",
    "#--------------------------------------------------------------------------------\n",
    "\n",
    "from isobar import *\n",
    "from signalflow import *\n",
    "\n",
    "graph = AudioGraph()\n",
    "output_device = SignalFlowOutputDevice(graph)\n",
    "timeline = Timeline(120, output_device=output_device, start=True)"
   ]
  },
  {
   "cell_type": "code",
   "execution_count": null,
   "metadata": {},
   "outputs": [],
   "source": [
    "class Squelch (Patch):\n",
    "    def __init__(self, frequency: float = 55, cutoff: float = 110, resonance: float = 0.8):\n",
    "        super().__init__()\n",
    "        frequency = self.add_input(\"frequency\", frequency)\n",
    "        cutoff = self.add_input(\"cutoff\", cutoff)\n",
    "        resonance = self.add_input(\"resonance\", resonance)\n",
    "        square = SquareOscillator([frequency, frequency + 1])\n",
    "        output = SVFilter(square, \"low_pass\", cutoff, resonance) * 0.25\n",
    "        self.set_output(output)"
   ]
  },
  {
   "cell_type": "code",
   "execution_count": null,
   "metadata": {},
   "outputs": [],
   "source": [
    "patch = Squelch()\n",
    "patch.play()"
   ]
  },
  {
   "cell_type": "code",
   "execution_count": null,
   "metadata": {},
   "outputs": [],
   "source": [
    "timeline.schedule({\n",
    "    \"type\": \"set\",\n",
    "    \"patch\": patch,\n",
    "    \"duration\": 0.25,\n",
    "    \"params\": {\n",
    "        \"cutoff\": PChoice([110, 220, 440, 880, 1760, 3520]),\n",
    "        \"resonance\": PWhite(0.1, 0.99),\n",
    "        \"frequency\": 80\n",
    "    }\n",
    "}, name=\"squelch\")"
   ]
  },
  {
   "cell_type": "code",
   "execution_count": null,
   "metadata": {},
   "outputs": [],
   "source": [
    "timeline.clear()\n",
    "graph.clear()"
   ]
  }
 ],
 "metadata": {
  "kernelspec": {
   "display_name": "env-311",
   "language": "python",
   "name": "python3"
  },
  "language_info": {
   "codemirror_mode": {
    "name": "ipython",
    "version": 3
   },
   "file_extension": ".py",
   "mimetype": "text/x-python",
   "name": "python",
   "nbconvert_exporter": "python",
   "pygments_lexer": "ipython3",
   "version": "3.11.6"
  }
 },
 "nbformat": 4,
 "nbformat_minor": 2
}
