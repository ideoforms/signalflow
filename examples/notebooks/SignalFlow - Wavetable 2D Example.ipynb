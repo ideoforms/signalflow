{
 "cells": [
  {
   "cell_type": "code",
   "execution_count": null,
   "metadata": {},
   "outputs": [],
   "source": [
    "#------------------------------------------------------------------------\n",
    "# Example: Wavetable 2D\n",
    "#\n",
    "# Interpolates between two wavetable buffers\n",
    "#------------------------------------------------------------------------\n",
    "\n",
    "from signalflow import *\n",
    "import numpy as np\n",
    "\n",
    "graph = AudioGraph()"
   ]
  },
  {
   "cell_type": "code",
   "execution_count": null,
   "metadata": {},
   "outputs": [],
   "source": [
    "wavetable_size = 4096\n",
    "\n",
    "#------------------------------------------------------------------------\n",
    "# Create a wavetable buffer for a band-limited square wave.\n",
    "# A Buffer can be populated from a 1D numpy array.\n",
    "#------------------------------------------------------------------------\n",
    "square = np.zeros(wavetable_size)\n",
    "for n in range(1, 300, 2):\n",
    "    square += np.sin(np.arange(wavetable_size) * n * np.pi * 2.0 / wavetable_size) / n\n",
    "square_buf = Buffer([square])\n",
    "\n",
    "#------------------------------------------------------------------------\n",
    "# Band-limited saw wave.\n",
    "#------------------------------------------------------------------------\n",
    "saw = np.zeros(wavetable_size)\n",
    "for n in range(1, 300):\n",
    "    saw += np.sin(np.arange(wavetable_size) * n * np.pi * 2.0 / wavetable_size) / n\n",
    "saw_buf = Buffer([saw])\n",
    "\n",
    "#------------------------------------------------------------------------\n",
    "# Buffer2D is a wavetable representation that can interpolate between\n",
    "# multiple different wavetables, using Wavetable2D for playback.\n",
    "#------------------------------------------------------------------------\n",
    "buffer2D = Buffer2D([square_buf, saw_buf])\n",
    "frequency = SineLFO(0.1, 60, 61)\n",
    "crossfade = SineLFO(0.5)\n",
    "wavetable = Wavetable2D(buffer2D, frequency, crossfade) * 0.1\n",
    "stereo = StereoPanner(wavetable)\n",
    "\n",
    "stereo.play()"
   ]
  },
  {
   "cell_type": "code",
   "execution_count": null,
   "metadata": {},
   "outputs": [],
   "source": [
    "graph.clear()"
   ]
  }
 ],
 "metadata": {
  "kernelspec": {
   "display_name": "env-311",
   "language": "python",
   "name": "python3"
  },
  "language_info": {
   "codemirror_mode": {
    "name": "ipython",
    "version": 3
   },
   "file_extension": ".py",
   "mimetype": "text/x-python",
   "name": "python",
   "nbconvert_exporter": "python",
   "pygments_lexer": "ipython3",
   "version": "3.11.6"
  }
 },
 "nbformat": 4,
 "nbformat_minor": 2
}
