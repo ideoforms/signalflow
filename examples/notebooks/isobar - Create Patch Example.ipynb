{
 "cells": [
  {
   "cell_type": "code",
   "execution_count": null,
   "metadata": {},
   "outputs": [],
   "source": [
    "#--------------------------------------------------------------------------------\n",
    "# Example: Sequencing SignalFlow with isobar\n",
    "# \n",
    "# In this example, the timeline creates a new Ping patch for each event.\n",
    "# Setting the auto_free property frees the patch after it finishes.\n",
    "#--------------------------------------------------------------------------------\n",
    "\n",
    "from isobar import *\n",
    "from signalflow import *\n",
    "\n",
    "output_device = SignalFlowOutputDevice()\n",
    "timeline = Timeline(120, output_device=output_device, start=True)"
   ]
  },
  {
   "cell_type": "code",
   "execution_count": null,
   "metadata": {},
   "outputs": [],
   "source": [
    "class Ping (Patch):\n",
    "    def __init__(self, frequency: float = 440, amplitude: float = 0.5):\n",
    "        super().__init__()\n",
    "        envelope = ASREnvelope(0, 0, 0.5)\n",
    "        sine = SineOscillator(frequency)\n",
    "        output = sine * envelope * 0.25 * amplitude\n",
    "        output = StereoPanner(output)\n",
    "        self.set_output(output)\n",
    "        self.set_auto_free_node(envelope)"
   ]
  },
  {
   "cell_type": "code",
   "execution_count": null,
   "metadata": {},
   "outputs": [],
   "source": [
    "ping = Ping()\n",
    "ping.play()"
   ]
  },
  {
   "cell_type": "code",
   "execution_count": null,
   "metadata": {},
   "outputs": [],
   "source": [
    "timeline.schedule({\n",
    "    \"type\": \"patch\",\n",
    "    \"patch\": Ping,\n",
    "    \"duration\": 0.5,\n",
    "    \"params\": {\n",
    "        \"frequency\": PChoice([220, 440, 660, 880]),\n",
    "        \"amplitude\": 0.5\n",
    "    }\n",
    "}, name=\"ping\")"
   ]
  },
  {
   "cell_type": "code",
   "execution_count": null,
   "metadata": {},
   "outputs": [],
   "source": [
    "timeline.clear()"
   ]
  }
 ],
 "metadata": {
  "kernelspec": {
   "display_name": "env-311",
   "language": "python",
   "name": "python3"
  },
  "language_info": {
   "codemirror_mode": {
    "name": "ipython",
    "version": 3
   },
   "file_extension": ".py",
   "mimetype": "text/x-python",
   "name": "python",
   "nbconvert_exporter": "python",
   "pygments_lexer": "ipython3",
   "version": "3.11.6"
  }
 },
 "nbformat": 4,
 "nbformat_minor": 2
}
