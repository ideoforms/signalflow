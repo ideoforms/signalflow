{
 "cells": [
  {
   "cell_type": "code",
   "execution_count": null,
   "metadata": {},
   "outputs": [],
   "source": [
    "#------------------------------------------------------------------------\n",
    "# Example: Euclidean rhythms\n",
    "#------------------------------------------------------------------------\n",
    "\n",
    "from signalflow import *\n",
    "\n",
    "graph = AudioGraph()"
   ]
  },
  {
   "cell_type": "code",
   "execution_count": null,
   "metadata": {},
   "outputs": [],
   "source": [
    "#------------------------------------------------------------------------\n",
    "# Subclass Patch to create a re-usable subgraph.\n",
    "# Notes:\n",
    "#  - __init__() must always be called from Patch subclass constructors\n",
    "#  - add_input is not required in this case, but it's good practice\n",
    "#    as it is needed when serialising Patch json to provide info on\n",
    "#    which component nodes should be labelled as named inputs.\n",
    "#  - set_output must be called finally to label the Patch's output node\n",
    "#------------------------------------------------------------------------\n",
    "class EuclideanPatch (Patch):\n",
    "    def __init__(self, clock, divider=1, sequence_length=24, num_events=8, cutoff=8000, resonance=0.99, pan=0.0, amp=0.5):\n",
    "        super().__init__()\n",
    "        self.clock = clock\n",
    "        self.cutoff = self.add_input(\"cutoff\", cutoff)\n",
    "        self.resonance = self.add_input(\"resonance\", resonance)\n",
    "        self.divider = self.add_input(\"divider\", divider)\n",
    "        self.sequence_length = self.add_input(\"sequence_length\", sequence_length)\n",
    "        self.num_events = self.add_input(\"num_events\", num_events)\n",
    "        self.amp = self.add_input(\"amp\", amp)\n",
    "        self.pan = self.add_input(\"pan\", pan)\n",
    "        self.eu = Euclidean(ClockDivider(self.clock, self.divider), self.sequence_length, self.num_events)\n",
    "        self.flt = SVFilter(self.eu, \"low_pass\", cutoff=self.cutoff, resonance=self.resonance)\n",
    "        self.panned = StereoPanner(self.flt * self.amp, self.pan)\n",
    "        self.set_output(self.panned)\n",
    "\n",
    "class PingPongDelayPatch (Patch):\n",
    "    def __init__(self, input=0, delay_time=1/8, feedback=0.7, wet=0.3):\n",
    "        super().__init__()\n",
    "        mono_input = ChannelMixer(1, input)\n",
    "        delay_l = AllpassDelay(mono_input, delay_time=delay_time, feedback=feedback)\n",
    "        delay_r = OneTapDelay(delay_l, delay_time=(delay_time/2))\n",
    "        wetdry = WetDry(input, [ delay_l, delay_r ], wet)\n",
    "        self.set_output(wetdry)"
   ]
  },
  {
   "cell_type": "code",
   "execution_count": null,
   "metadata": {},
   "outputs": [],
   "source": [
    "clock = Impulse(8)\n",
    "\n",
    "#--------------------------------------------------------------------------------\n",
    "# Create four parallel Euclidean rhythm lines with different parameters.\n",
    "#--------------------------------------------------------------------------------\n",
    "a = EuclideanPatch(clock, 2, 23, 7, 80, 0.99, 0.0, 10.0)\n",
    "b = EuclideanPatch(clock, 3, 13, 9, 800, 0.98, 0.7, 0.2)\n",
    "c = EuclideanPatch(clock, 4, 16, 11, 8000, 0.97, -0.7, 0.05)\n",
    "d = EuclideanPatch(clock, 2, 19, 12, 480, 0.99, 0.0, 0.2)\n",
    "\n",
    "#--------------------------------------------------------------------------------\n",
    "# Sum the rhythm lines, boost and pass through a tanh soft clipper.\n",
    "#--------------------------------------------------------------------------------\n",
    "mix = a + b + c + d\n",
    "mix = Tanh(mix * 10)\n",
    "\n",
    "#--------------------------------------------------------------------------------\n",
    "# Mix the wet/dry signals and play the output.\n",
    "#--------------------------------------------------------------------------------\n",
    "pingpong = PingPongDelayPatch(mix)\n",
    "pingpong.play()"
   ]
  },
  {
   "cell_type": "code",
   "execution_count": null,
   "metadata": {},
   "outputs": [],
   "source": [
    "graph.clear()"
   ]
  }
 ],
 "metadata": {
  "kernelspec": {
   "display_name": "env-311",
   "language": "python",
   "name": "python3"
  },
  "language_info": {
   "codemirror_mode": {
    "name": "ipython",
    "version": 3
   },
   "file_extension": ".py",
   "mimetype": "text/x-python",
   "name": "python",
   "nbconvert_exporter": "python",
   "pygments_lexer": "ipython3",
   "version": "3.11.6"
  }
 },
 "nbformat": 4,
 "nbformat_minor": 2
}
