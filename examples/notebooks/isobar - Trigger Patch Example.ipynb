{
 "cells": [
  {
   "cell_type": "code",
   "execution_count": null,
   "metadata": {},
   "outputs": [],
   "source": [
    "#--------------------------------------------------------------------------------\n",
    "# Example: Sequencing SignalFlow with isobar\n",
    "# \n",
    "# In this example, a Cymbal patch is created at initialisation.\n",
    "# Each event triggers the patch, causing its ASREnvelope to be re-triggered.\n",
    "#--------------------------------------------------------------------------------\n",
    "\n",
    "from isobar import *\n",
    "from signalflow import *\n",
    "\n",
    "graph = AudioGraph()\n",
    "output_device = SignalFlowOutputDevice(graph)\n",
    "timeline = Timeline(120, output_device=output_device, start=True)"
   ]
  },
  {
   "cell_type": "code",
   "execution_count": null,
   "metadata": {},
   "outputs": [],
   "source": [
    "class Cymbal (Patch):\n",
    "    def __init__(self, hpf: float = 5000):\n",
    "        super().__init__()\n",
    "        hpf = self.add_input(\"hpf\", hpf)\n",
    "        noise = WhiteNoise()\n",
    "        noise = SVFilter(noise, \"high_pass\", hpf)\n",
    "        envelope = ASREnvelope(0, 0, 0.1)\n",
    "        output = noise * envelope * 0.25\n",
    "        self.set_output(output)\n",
    "        \n",
    "        # set_trigger_node() determines which node will be re-triggered\n",
    "        # when the patch receives a trigger() event\n",
    "        self.set_trigger_node(envelope)"
   ]
  },
  {
   "cell_type": "code",
   "execution_count": null,
   "metadata": {},
   "outputs": [],
   "source": [
    "cymbal = Cymbal()\n",
    "cymbal.play()"
   ]
  },
  {
   "cell_type": "code",
   "execution_count": null,
   "metadata": {},
   "outputs": [],
   "source": [
    "# re-trigger the cymbal manually\n",
    "cymbal.trigger()"
   ]
  },
  {
   "cell_type": "code",
   "execution_count": null,
   "metadata": {},
   "outputs": [],
   "source": [
    "timeline.schedule({\n",
    "    \"type\": \"trigger\",\n",
    "    \"patch\": cymbal,\n",
    "    \"duration\": PLoop(PTri(16, 0.5, 0.1)),\n",
    "    \"params\": {\n",
    "        \"hpf\": PWhite(1000, 10000)\n",
    "    }\n",
    "}, name=\"cymbal\")"
   ]
  },
  {
   "cell_type": "code",
   "execution_count": null,
   "metadata": {},
   "outputs": [],
   "source": [
    "timeline.clear()\n",
    "graph.clear()"
   ]
  }
 ],
 "metadata": {
  "kernelspec": {
   "display_name": "env-311",
   "language": "python",
   "name": "python3"
  },
  "language_info": {
   "codemirror_mode": {
    "name": "ipython",
    "version": 3
   },
   "file_extension": ".py",
   "mimetype": "text/x-python",
   "name": "python",
   "nbconvert_exporter": "python",
   "pygments_lexer": "ipython3",
   "version": "3.11.6"
  }
 },
 "nbformat": 4,
 "nbformat_minor": 2
}
