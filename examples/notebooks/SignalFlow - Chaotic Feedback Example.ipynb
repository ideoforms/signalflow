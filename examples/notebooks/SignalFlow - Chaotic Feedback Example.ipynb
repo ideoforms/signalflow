{
 "cells": [
  {
   "cell_type": "code",
   "execution_count": null,
   "metadata": {},
   "outputs": [],
   "source": [
    "#------------------------------------------------------------------------\n",
    "# Example: Chaotic feedback\n",
    "#------------------------------------------------------------------------\n",
    "\n",
    "from signalflow import *\n",
    "\n",
    "graph = AudioGraph()"
   ]
  },
  {
   "cell_type": "code",
   "execution_count": null,
   "metadata": {},
   "outputs": [],
   "source": [
    "#------------------------------------------------------------------------\n",
    "# Once per second, select a new random frequency (40-20000Hz)\n",
    "#------------------------------------------------------------------------\n",
    "f0 = RandomExponential(40, 2000, clock=RandomImpulse(1))\n",
    "\n",
    "#------------------------------------------------------------------------\n",
    "# Allocate a one-second buffer for use in the feedback line.\n",
    "#------------------------------------------------------------------------\n",
    "buf = Buffer(1, graph.sample_rate)\n",
    "\n",
    "#------------------------------------------------------------------------\n",
    "# op1 self-modulates by sending its output value to a\n",
    "# FeedbackBufferWriter, and reading its previous outputs from a\n",
    "# FeedbackBufferReader.\n",
    "#------------------------------------------------------------------------\n",
    "feedback = FeedbackBufferReader(buf)\n",
    "op0 = SineOscillator(f0 + f0 * feedback * 14)\n",
    "\n",
    "#------------------------------------------------------------------------\n",
    "# Alter the level of self-oscillation once per second.\n",
    "# Pass an array to RandomImpulse to generate different randomised\n",
    "# sequences in the L/R channels, for stereo output.\n",
    "#------------------------------------------------------------------------\n",
    "level = Smooth(RandomUniform(0, 1, clock=RandomImpulse([0.5, 0.5])))\n",
    "level = ScaleLinExp(level, 0, 1, 0.0001, 1.0)\n",
    "op0 = op0 * level\n",
    "graph.add_node(FeedbackBufferWriter(buf, op0, 0.5))\n",
    "\n",
    "#------------------------------------------------------------------------\n",
    "# Use the chaotic output of op0 to modulate a second sine oscillator.\n",
    "#------------------------------------------------------------------------\n",
    "op1 = SineOscillator(f0 + f0 * op0 * 14)\n",
    "\n",
    "op1.play()"
   ]
  },
  {
   "cell_type": "code",
   "execution_count": null,
   "metadata": {},
   "outputs": [],
   "source": [
    "graph.clear()"
   ]
  }
 ],
 "metadata": {
  "kernelspec": {
   "display_name": "env-311",
   "language": "python",
   "name": "python3"
  },
  "language_info": {
   "codemirror_mode": {
    "name": "ipython",
    "version": 3
   },
   "file_extension": ".py",
   "mimetype": "text/x-python",
   "name": "python",
   "nbconvert_exporter": "python",
   "pygments_lexer": "ipython3",
   "version": "3.11.6"
  }
 },
 "nbformat": 4,
 "nbformat_minor": 2
}
